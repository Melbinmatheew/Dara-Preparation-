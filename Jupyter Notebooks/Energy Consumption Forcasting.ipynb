{
 "cells": [
  {
   "cell_type": "markdown",
   "id": "cd000e61-1930-4344-a984-58508ce10e18",
   "metadata": {
    "canvas": {
     "comments": [],
     "componentType": "CodeCell",
     "copiedOriginId": null,
     "diskcache": false,
     "headerColor": "transparent",
     "id": "a46825b7-df8d-4e99-9be1-d3a0ccf3926d",
     "isComponent": false,
     "name": "",
     "parents": []
    },
    "tags": []
   },
   "source": [
    "## Import Necessary Libraries "
   ]
  },
  {
   "cell_type": "code",
   "execution_count": 58,
   "id": "f8612b02-c42f-4dbc-88dc-8ed4816af2e2",
   "metadata": {
    "canvas": {
     "comments": [],
     "componentType": "CodeCell",
     "copiedOriginId": null,
     "diskcache": false,
     "headerColor": "transparent",
     "id": "8f79d83c-d498-4e16-a322-8b6592606389",
     "isComponent": true,
     "name": "Importing Libraries",
     "parents": []
    },
    "tags": []
   },
   "outputs": [],
   "source": [
    "import numpy as np\n",
    "import pandas as pd\n",
    "import matplotlib.pyplot as plt\n",
    "import seaborn as sns\n",
    "\n",
    "import os\n",
    "import sys\n"
   ]
  },
  {
   "cell_type": "markdown",
   "id": "6fd59c9c-605c-4d45-b2d6-942ff9f7cbe5",
   "metadata": {
    "canvas": {
     "comments": [],
     "componentType": "CodeCell",
     "copiedOriginId": null,
     "diskcache": false,
     "headerColor": "transparent",
     "id": "2a509f3d-d88f-4767-bdc3-c7cedf9a3b18",
     "isComponent": false,
     "name": "",
     "parents": []
    }
   },
   "source": [
    "## Import Data set"
   ]
  },
  {
   "cell_type": "code",
   "execution_count": 59,
   "id": "c7989c9d-b3b5-49dd-a49c-455dda563150",
   "metadata": {
    "canvas": {
     "comments": [],
     "componentType": "CodeCell",
     "copiedOriginId": null,
     "diskcache": false,
     "headerColor": "transparent",
     "id": "e019a162-bfcb-4b01-b9b7-03611e723fb2",
     "isComponent": true,
     "name": "Data set",
     "parents": [
      {
       "id": "8f79d83c-d498-4e16-a322-8b6592606389",
       "name": "Importing Libraries"
      }
     ]
    },
    "tags": []
   },
   "outputs": [],
   "source": [
    "data=pd.read_csv(\"..\\Dataset\\df_limpio.csv\")"
   ]
  },
  {
   "cell_type": "code",
   "execution_count": 60,
   "id": "d9cc7c9f-5cac-49c5-a565-5ddca61e32b2",
   "metadata": {
    "canvas": {
     "comments": [],
     "componentType": "CodeCell",
     "copiedOriginId": null,
     "diskcache": false,
     "headerColor": "transparent",
     "id": "b1d3d8ec-beea-4fdd-bcf6-beeedcae7d41",
     "isComponent": false,
     "name": "",
     "parents": []
    }
   },
   "outputs": [
    {
     "data": {
      "text/html": [
       "<div>\n",
       "<style scoped>\n",
       "    .dataframe tbody tr th:only-of-type {\n",
       "        vertical-align: middle;\n",
       "    }\n",
       "\n",
       "    .dataframe tbody tr th {\n",
       "        vertical-align: top;\n",
       "    }\n",
       "\n",
       "    .dataframe thead th {\n",
       "        text-align: right;\n",
       "    }\n",
       "</style>\n",
       "<table border=\"1\" class=\"dataframe\">\n",
       "  <thead>\n",
       "    <tr style=\"text-align: right;\">\n",
       "      <th></th>\n",
       "      <th>Fecha_emision</th>\n",
       "      <th>Fecha_expiracion</th>\n",
       "      <th>Emision_CO2</th>\n",
       "      <th>Clasificacion_Emisiones</th>\n",
       "      <th>ConsumoKWh/m2/Anio</th>\n",
       "      <th>Clasificacion_consumo</th>\n",
       "      <th>Tipo_edificio</th>\n",
       "      <th>Estado_edificio</th>\n",
       "      <th>Anio_construccion</th>\n",
       "      <th>Superficie_m2</th>\n",
       "      <th>Municipio</th>\n",
       "      <th>Provincia</th>\n",
       "      <th>Coordenadas_gps</th>\n",
       "      <th>Anio_emision</th>\n",
       "      <th>Dias_hasta_expiracion</th>\n",
       "    </tr>\n",
       "  </thead>\n",
       "  <tbody>\n",
       "    <tr>\n",
       "      <th>0</th>\n",
       "      <td>2013-06-29</td>\n",
       "      <td>2023-06-29</td>\n",
       "      <td>30.11</td>\n",
       "      <td>E</td>\n",
       "      <td>142.33</td>\n",
       "      <td>E</td>\n",
       "      <td>Vivienda individual</td>\n",
       "      <td>Existente</td>\n",
       "      <td>1962</td>\n",
       "      <td>49.0</td>\n",
       "      <td>ZARAGOZA</td>\n",
       "      <td>ZARAGOZA</td>\n",
       "      <td>674903,68 , 4612931,37</td>\n",
       "      <td>2013</td>\n",
       "      <td>3652</td>\n",
       "    </tr>\n",
       "    <tr>\n",
       "      <th>1</th>\n",
       "      <td>2013-09-26</td>\n",
       "      <td>2023-09-26</td>\n",
       "      <td>46.06</td>\n",
       "      <td>E</td>\n",
       "      <td>174.42</td>\n",
       "      <td>E</td>\n",
       "      <td>Vivienda individual</td>\n",
       "      <td>Existente</td>\n",
       "      <td>1974</td>\n",
       "      <td>81.0</td>\n",
       "      <td>ZARAGOZA</td>\n",
       "      <td>ZARAGOZA</td>\n",
       "      <td>674062,96 , 4612970,24</td>\n",
       "      <td>2013</td>\n",
       "      <td>3652</td>\n",
       "    </tr>\n",
       "    <tr>\n",
       "      <th>2</th>\n",
       "      <td>2014-02-26</td>\n",
       "      <td>2024-02-26</td>\n",
       "      <td>20.30</td>\n",
       "      <td>D</td>\n",
       "      <td>94.16</td>\n",
       "      <td>D</td>\n",
       "      <td>Vivienda individual</td>\n",
       "      <td>Existente</td>\n",
       "      <td>1999</td>\n",
       "      <td>72.0</td>\n",
       "      <td>ZARAGOZA</td>\n",
       "      <td>ZARAGOZA</td>\n",
       "      <td>671872,34 , 4612101,81</td>\n",
       "      <td>2014</td>\n",
       "      <td>3652</td>\n",
       "    </tr>\n",
       "    <tr>\n",
       "      <th>3</th>\n",
       "      <td>2013-06-12</td>\n",
       "      <td>2023-06-12</td>\n",
       "      <td>39.21</td>\n",
       "      <td>E</td>\n",
       "      <td>187.66</td>\n",
       "      <td>E</td>\n",
       "      <td>Vivienda individual</td>\n",
       "      <td>Existente</td>\n",
       "      <td>1970</td>\n",
       "      <td>65.0</td>\n",
       "      <td>ZARAGOZA</td>\n",
       "      <td>ZARAGOZA</td>\n",
       "      <td>676128,95 , 4613401,52</td>\n",
       "      <td>2013</td>\n",
       "      <td>3652</td>\n",
       "    </tr>\n",
       "    <tr>\n",
       "      <th>4</th>\n",
       "      <td>2013-06-27</td>\n",
       "      <td>2023-06-27</td>\n",
       "      <td>103.75</td>\n",
       "      <td>G</td>\n",
       "      <td>409.03</td>\n",
       "      <td>G</td>\n",
       "      <td>Vivienda individual</td>\n",
       "      <td>Existente</td>\n",
       "      <td>1965</td>\n",
       "      <td>46.0</td>\n",
       "      <td>ZARAGOZA</td>\n",
       "      <td>ZARAGOZA</td>\n",
       "      <td>674806,83 , 4613067,64</td>\n",
       "      <td>2013</td>\n",
       "      <td>3652</td>\n",
       "    </tr>\n",
       "  </tbody>\n",
       "</table>\n",
       "</div>"
      ],
      "text/plain": [
       "  Fecha_emision Fecha_expiracion  Emision_CO2 Clasificacion_Emisiones  \\\n",
       "0    2013-06-29       2023-06-29        30.11                       E   \n",
       "1    2013-09-26       2023-09-26        46.06                       E   \n",
       "2    2014-02-26       2024-02-26        20.30                       D   \n",
       "3    2013-06-12       2023-06-12        39.21                       E   \n",
       "4    2013-06-27       2023-06-27       103.75                       G   \n",
       "\n",
       "   ConsumoKWh/m2/Anio Clasificacion_consumo        Tipo_edificio  \\\n",
       "0              142.33                     E  Vivienda individual   \n",
       "1              174.42                     E  Vivienda individual   \n",
       "2               94.16                     D  Vivienda individual   \n",
       "3              187.66                     E  Vivienda individual   \n",
       "4              409.03                     G  Vivienda individual   \n",
       "\n",
       "  Estado_edificio  Anio_construccion  Superficie_m2 Municipio Provincia  \\\n",
       "0       Existente               1962           49.0  ZARAGOZA  ZARAGOZA   \n",
       "1       Existente               1974           81.0  ZARAGOZA  ZARAGOZA   \n",
       "2       Existente               1999           72.0  ZARAGOZA  ZARAGOZA   \n",
       "3       Existente               1970           65.0  ZARAGOZA  ZARAGOZA   \n",
       "4       Existente               1965           46.0  ZARAGOZA  ZARAGOZA   \n",
       "\n",
       "          Coordenadas_gps  Anio_emision  Dias_hasta_expiracion  \n",
       "0  674903,68 , 4612931,37          2013                   3652  \n",
       "1  674062,96 , 4612970,24          2013                   3652  \n",
       "2  671872,34 , 4612101,81          2014                   3652  \n",
       "3  676128,95 , 4613401,52          2013                   3652  \n",
       "4  674806,83 , 4613067,64          2013                   3652  "
      ]
     },
     "execution_count": 60,
     "metadata": {},
     "output_type": "execute_result"
    }
   ],
   "source": [
    "data.head()"
   ]
  },
  {
   "cell_type": "code",
   "execution_count": 61,
   "id": "5d986ffd-e9f6-487e-92df-be03a2cca984",
   "metadata": {
    "canvas": {
     "comments": [],
     "componentType": "CodeCell",
     "copiedOriginId": null,
     "diskcache": false,
     "headerColor": "transparent",
     "id": "4cb51d63-d1ff-4a5e-8057-47778bed3a39",
     "isComponent": false,
     "name": "",
     "parents": []
    }
   },
   "outputs": [
    {
     "data": {
      "text/plain": [
       "Index(['Fecha_emision', 'Fecha_expiracion', 'Emision_CO2',\n",
       "       'Clasificacion_Emisiones', 'ConsumoKWh/m2/Anio',\n",
       "       'Clasificacion_consumo', 'Tipo_edificio', 'Estado_edificio',\n",
       "       'Anio_construccion', 'Superficie_m2', 'Municipio', 'Provincia',\n",
       "       'Coordenadas_gps', 'Anio_emision', 'Dias_hasta_expiracion'],\n",
       "      dtype='object')"
      ]
     },
     "execution_count": 61,
     "metadata": {},
     "output_type": "execute_result"
    }
   ],
   "source": [
    "data.columns"
   ]
  },
  {
   "cell_type": "code",
   "execution_count": 62,
   "id": "c7ed3718-478c-4435-893b-3620c0b0032a",
   "metadata": {
    "canvas": {
     "comments": [],
     "componentType": "CodeCell",
     "copiedOriginId": null,
     "diskcache": false,
     "headerColor": "transparent",
     "id": "1a796635-1e10-4b2b-8a67-a43036836ace",
     "isComponent": false,
     "name": "",
     "parents": []
    }
   },
   "outputs": [
    {
     "name": "stdout",
     "output_type": "stream",
     "text": [
      "<class 'pandas.core.frame.DataFrame'>\n",
      "RangeIndex: 179852 entries, 0 to 179851\n",
      "Data columns (total 15 columns):\n",
      " #   Column                   Non-Null Count   Dtype  \n",
      "---  ------                   --------------   -----  \n",
      " 0   Fecha_emision            179852 non-null  object \n",
      " 1   Fecha_expiracion         179852 non-null  object \n",
      " 2   Emision_CO2              179852 non-null  float64\n",
      " 3   Clasificacion_Emisiones  179852 non-null  object \n",
      " 4   ConsumoKWh/m2/Anio       179852 non-null  float64\n",
      " 5   Clasificacion_consumo    179852 non-null  object \n",
      " 6   Tipo_edificio            179852 non-null  object \n",
      " 7   Estado_edificio          179852 non-null  object \n",
      " 8   Anio_construccion        179852 non-null  int64  \n",
      " 9   Superficie_m2            179852 non-null  float64\n",
      " 10  Municipio                179852 non-null  object \n",
      " 11  Provincia                179852 non-null  object \n",
      " 12  Coordenadas_gps          179852 non-null  object \n",
      " 13  Anio_emision             179852 non-null  int64  \n",
      " 14  Dias_hasta_expiracion    179852 non-null  int64  \n",
      "dtypes: float64(3), int64(3), object(9)\n",
      "memory usage: 20.6+ MB\n"
     ]
    }
   ],
   "source": [
    "data.info()"
   ]
  },
  {
   "cell_type": "markdown",
   "id": "dbd22dc8",
   "metadata": {},
   "source": [
    "## Data Preprocessing"
   ]
  },
  {
   "cell_type": "markdown",
   "id": "2b8daf19",
   "metadata": {},
   "source": [
    "#### Checking for is there is any null values are present"
   ]
  },
  {
   "cell_type": "code",
   "execution_count": 63,
   "id": "30958121-1212-408f-b54a-f66a3c3100c1",
   "metadata": {
    "canvas": {
     "comments": [],
     "componentType": "CodeCell",
     "copiedOriginId": null,
     "diskcache": false,
     "headerColor": "transparent",
     "id": "ac62e4db-4826-4216-8cc8-eeec7d2e8921",
     "isComponent": false,
     "name": "",
     "parents": []
    }
   },
   "outputs": [
    {
     "data": {
      "text/plain": [
       "Fecha_emision              0\n",
       "Fecha_expiracion           0\n",
       "Emision_CO2                0\n",
       "Clasificacion_Emisiones    0\n",
       "ConsumoKWh/m2/Anio         0\n",
       "Clasificacion_consumo      0\n",
       "Tipo_edificio              0\n",
       "Estado_edificio            0\n",
       "Anio_construccion          0\n",
       "Superficie_m2              0\n",
       "Municipio                  0\n",
       "Provincia                  0\n",
       "Coordenadas_gps            0\n",
       "Anio_emision               0\n",
       "Dias_hasta_expiracion      0\n",
       "dtype: int64"
      ]
     },
     "execution_count": 63,
     "metadata": {},
     "output_type": "execute_result"
    }
   ],
   "source": [
    "data.isna().sum()"
   ]
  },
  {
   "cell_type": "markdown",
   "id": "4e15a646",
   "metadata": {},
   "source": [
    "#### Checking for is there is any duplicate values are present"
   ]
  },
  {
   "cell_type": "code",
   "execution_count": 64,
   "id": "30368fcc",
   "metadata": {},
   "outputs": [
    {
     "name": "stdout",
     "output_type": "stream",
     "text": [
      "Number of duplicate rows are :\n",
      "24364\n"
     ]
    }
   ],
   "source": [
    "duplicate_row=data.duplicated().sum()\n",
    "\n",
    "if duplicate_row==0:\n",
    "   print('No duplicate rows found.')\n",
    "else:\n",
    "   print('Number of duplicate rows are :')\n",
    "   print(duplicate_row)"
   ]
  },
  {
   "cell_type": "code",
   "execution_count": 65,
   "id": "c6bd4b07",
   "metadata": {},
   "outputs": [
    {
     "name": "stdout",
     "output_type": "stream",
     "text": [
      "No duplicate rows found.\n",
      "Shape of the data set:\n",
      "(155488, 15)\n"
     ]
    }
   ],
   "source": [
    "# Removing Duplicates values\n",
    "\n",
    "data=data.drop_duplicates()\n",
    "                                 # Checking if there is any duplicates are present!!\n",
    "duplicate_row=data.duplicated().sum()\n",
    "\n",
    "if duplicate_row==0:\n",
    "   print('No duplicate rows found.')\n",
    "else:\n",
    "   print('Number of duplicate rows are :')\n",
    "   print(duplicate_row)\n",
    "print(\"Shape of the data set:\")\n",
    "print(data.shape)"
   ]
  },
  {
   "cell_type": "markdown",
   "id": "8b9d52d1-54ab-4e61-bbf7-fd9e651e7d65",
   "metadata": {
    "canvas": {
     "comments": [],
     "componentType": "CodeCell",
     "copiedOriginId": null,
     "diskcache": false,
     "headerColor": "transparent",
     "id": "ddefad83-38af-46d8-a15f-160a1c2dab65",
     "isComponent": false,
     "name": "Data Preprocessing",
     "parents": [
      {
       "id": "e019a162-bfcb-4b01-b9b7-03611e723fb2",
       "name": "Data set"
      }
     ]
    },
    "tags": []
   },
   "source": [
    "##### Rename Columns"
   ]
  },
  {
   "cell_type": "code",
   "execution_count": 66,
   "id": "7751b36d-2928-42a4-942a-424d221616f3",
   "metadata": {
    "canvas": {
     "comments": [],
     "componentType": "CodeCell",
     "copiedOriginId": null,
     "diskcache": false,
     "headerColor": "transparent",
     "id": "3b882149-fc32-4124-9a77-73b7160d169f",
     "isComponent": true,
     "name": "Data Rename",
     "parents": [
      {
       "id": "cb76dd8d-5406-44d5-b7b2-02d3b73f9cd2",
       "name": "Data Preprocessing"
      }
     ]
    },
    "tags": []
   },
   "outputs": [],
   "source": [
    "data=data.rename(columns={'Fecha_emision':'Emission_date',\n",
    "                         'Fecha_expiracion':'Expiration_date',\n",
    "                         'Emision_CO2':'CO2_emission',\n",
    "       'Clasificacion_Emisiones':'Emission_classification',\n",
    "                         'ConsumoKWh/m2/Anio':'Consumption_KWh_per_m2_per_year',\n",
    "                         \n",
    "       'Clasificacion_consumo':'Consumption_classification', \n",
    "                         'Tipo_edificio':'Building_type',\n",
    "                         'Estado_edificio':'Building_condition',\n",
    "       'Anio_construccion':'Year_of_construction',\n",
    "                         'Superficie_m2':'Surface_area_m2',\n",
    "                         'Municipio':'Municipality',\n",
    "                         'Provincia':'Province',\n",
    "       'Coordenadas_gps':'GPS_coordinates',\n",
    "                         'Anio_emision':'Emission_year', \n",
    "                         'Dias_hasta_expiracion':'Days_until_expiration'\n",
    "})"
   ]
  },
  {
   "cell_type": "code",
   "execution_count": 67,
   "id": "63cf426c-04e8-4e14-8392-ab71be531f2d",
   "metadata": {
    "canvas": {
     "comments": [],
     "componentType": "CodeCell",
     "copiedOriginId": null,
     "diskcache": false,
     "headerColor": "transparent",
     "id": "60bab4a8-3dfc-4c4b-8208-e10e80395bd7",
     "isComponent": false,
     "name": "",
     "parents": []
    }
   },
   "outputs": [
    {
     "data": {
      "text/html": [
       "<div>\n",
       "<style scoped>\n",
       "    .dataframe tbody tr th:only-of-type {\n",
       "        vertical-align: middle;\n",
       "    }\n",
       "\n",
       "    .dataframe tbody tr th {\n",
       "        vertical-align: top;\n",
       "    }\n",
       "\n",
       "    .dataframe thead th {\n",
       "        text-align: right;\n",
       "    }\n",
       "</style>\n",
       "<table border=\"1\" class=\"dataframe\">\n",
       "  <thead>\n",
       "    <tr style=\"text-align: right;\">\n",
       "      <th></th>\n",
       "      <th>Emission_date</th>\n",
       "      <th>Expiration_date</th>\n",
       "      <th>CO2_emission</th>\n",
       "      <th>Emission_classification</th>\n",
       "      <th>Consumption_KWh_per_m2_per_year</th>\n",
       "      <th>Consumption_classification</th>\n",
       "      <th>Building_type</th>\n",
       "      <th>Building_condition</th>\n",
       "      <th>Year_of_construction</th>\n",
       "      <th>Surface_area_m2</th>\n",
       "      <th>Municipality</th>\n",
       "      <th>Province</th>\n",
       "      <th>GPS_coordinates</th>\n",
       "      <th>Emission_year</th>\n",
       "      <th>Days_until_expiration</th>\n",
       "    </tr>\n",
       "  </thead>\n",
       "  <tbody>\n",
       "    <tr>\n",
       "      <th>0</th>\n",
       "      <td>2013-06-29</td>\n",
       "      <td>2023-06-29</td>\n",
       "      <td>30.11</td>\n",
       "      <td>E</td>\n",
       "      <td>142.33</td>\n",
       "      <td>E</td>\n",
       "      <td>Vivienda individual</td>\n",
       "      <td>Existente</td>\n",
       "      <td>1962</td>\n",
       "      <td>49.0</td>\n",
       "      <td>ZARAGOZA</td>\n",
       "      <td>ZARAGOZA</td>\n",
       "      <td>674903,68 , 4612931,37</td>\n",
       "      <td>2013</td>\n",
       "      <td>3652</td>\n",
       "    </tr>\n",
       "    <tr>\n",
       "      <th>1</th>\n",
       "      <td>2013-09-26</td>\n",
       "      <td>2023-09-26</td>\n",
       "      <td>46.06</td>\n",
       "      <td>E</td>\n",
       "      <td>174.42</td>\n",
       "      <td>E</td>\n",
       "      <td>Vivienda individual</td>\n",
       "      <td>Existente</td>\n",
       "      <td>1974</td>\n",
       "      <td>81.0</td>\n",
       "      <td>ZARAGOZA</td>\n",
       "      <td>ZARAGOZA</td>\n",
       "      <td>674062,96 , 4612970,24</td>\n",
       "      <td>2013</td>\n",
       "      <td>3652</td>\n",
       "    </tr>\n",
       "    <tr>\n",
       "      <th>2</th>\n",
       "      <td>2014-02-26</td>\n",
       "      <td>2024-02-26</td>\n",
       "      <td>20.30</td>\n",
       "      <td>D</td>\n",
       "      <td>94.16</td>\n",
       "      <td>D</td>\n",
       "      <td>Vivienda individual</td>\n",
       "      <td>Existente</td>\n",
       "      <td>1999</td>\n",
       "      <td>72.0</td>\n",
       "      <td>ZARAGOZA</td>\n",
       "      <td>ZARAGOZA</td>\n",
       "      <td>671872,34 , 4612101,81</td>\n",
       "      <td>2014</td>\n",
       "      <td>3652</td>\n",
       "    </tr>\n",
       "    <tr>\n",
       "      <th>3</th>\n",
       "      <td>2013-06-12</td>\n",
       "      <td>2023-06-12</td>\n",
       "      <td>39.21</td>\n",
       "      <td>E</td>\n",
       "      <td>187.66</td>\n",
       "      <td>E</td>\n",
       "      <td>Vivienda individual</td>\n",
       "      <td>Existente</td>\n",
       "      <td>1970</td>\n",
       "      <td>65.0</td>\n",
       "      <td>ZARAGOZA</td>\n",
       "      <td>ZARAGOZA</td>\n",
       "      <td>676128,95 , 4613401,52</td>\n",
       "      <td>2013</td>\n",
       "      <td>3652</td>\n",
       "    </tr>\n",
       "    <tr>\n",
       "      <th>4</th>\n",
       "      <td>2013-06-27</td>\n",
       "      <td>2023-06-27</td>\n",
       "      <td>103.75</td>\n",
       "      <td>G</td>\n",
       "      <td>409.03</td>\n",
       "      <td>G</td>\n",
       "      <td>Vivienda individual</td>\n",
       "      <td>Existente</td>\n",
       "      <td>1965</td>\n",
       "      <td>46.0</td>\n",
       "      <td>ZARAGOZA</td>\n",
       "      <td>ZARAGOZA</td>\n",
       "      <td>674806,83 , 4613067,64</td>\n",
       "      <td>2013</td>\n",
       "      <td>3652</td>\n",
       "    </tr>\n",
       "  </tbody>\n",
       "</table>\n",
       "</div>"
      ],
      "text/plain": [
       "  Emission_date Expiration_date  CO2_emission Emission_classification  \\\n",
       "0    2013-06-29      2023-06-29         30.11                       E   \n",
       "1    2013-09-26      2023-09-26         46.06                       E   \n",
       "2    2014-02-26      2024-02-26         20.30                       D   \n",
       "3    2013-06-12      2023-06-12         39.21                       E   \n",
       "4    2013-06-27      2023-06-27        103.75                       G   \n",
       "\n",
       "   Consumption_KWh_per_m2_per_year Consumption_classification  \\\n",
       "0                           142.33                          E   \n",
       "1                           174.42                          E   \n",
       "2                            94.16                          D   \n",
       "3                           187.66                          E   \n",
       "4                           409.03                          G   \n",
       "\n",
       "         Building_type Building_condition  Year_of_construction  \\\n",
       "0  Vivienda individual          Existente                  1962   \n",
       "1  Vivienda individual          Existente                  1974   \n",
       "2  Vivienda individual          Existente                  1999   \n",
       "3  Vivienda individual          Existente                  1970   \n",
       "4  Vivienda individual          Existente                  1965   \n",
       "\n",
       "   Surface_area_m2 Municipality  Province         GPS_coordinates  \\\n",
       "0             49.0     ZARAGOZA  ZARAGOZA  674903,68 , 4612931,37   \n",
       "1             81.0     ZARAGOZA  ZARAGOZA  674062,96 , 4612970,24   \n",
       "2             72.0     ZARAGOZA  ZARAGOZA  671872,34 , 4612101,81   \n",
       "3             65.0     ZARAGOZA  ZARAGOZA  676128,95 , 4613401,52   \n",
       "4             46.0     ZARAGOZA  ZARAGOZA  674806,83 , 4613067,64   \n",
       "\n",
       "   Emission_year  Days_until_expiration  \n",
       "0           2013                   3652  \n",
       "1           2013                   3652  \n",
       "2           2014                   3652  \n",
       "3           2013                   3652  \n",
       "4           2013                   3652  "
      ]
     },
     "execution_count": 67,
     "metadata": {},
     "output_type": "execute_result"
    }
   ],
   "source": [
    "data.head(5)"
   ]
  },
  {
   "cell_type": "code",
   "execution_count": 68,
   "id": "5ac2db0e",
   "metadata": {},
   "outputs": [
    {
     "name": "stdout",
     "output_type": "stream",
     "text": [
      "<class 'pandas.core.frame.DataFrame'>\n",
      "Index: 155488 entries, 0 to 179851\n",
      "Data columns (total 15 columns):\n",
      " #   Column                           Non-Null Count   Dtype  \n",
      "---  ------                           --------------   -----  \n",
      " 0   Emission_date                    155488 non-null  object \n",
      " 1   Expiration_date                  155488 non-null  object \n",
      " 2   CO2_emission                     155488 non-null  float64\n",
      " 3   Emission_classification          155488 non-null  object \n",
      " 4   Consumption_KWh_per_m2_per_year  155488 non-null  float64\n",
      " 5   Consumption_classification       155488 non-null  object \n",
      " 6   Building_type                    155488 non-null  object \n",
      " 7   Building_condition               155488 non-null  object \n",
      " 8   Year_of_construction             155488 non-null  int64  \n",
      " 9   Surface_area_m2                  155488 non-null  float64\n",
      " 10  Municipality                     155488 non-null  object \n",
      " 11  Province                         155488 non-null  object \n",
      " 12  GPS_coordinates                  155488 non-null  object \n",
      " 13  Emission_year                    155488 non-null  int64  \n",
      " 14  Days_until_expiration            155488 non-null  int64  \n",
      "dtypes: float64(3), int64(3), object(9)\n",
      "memory usage: 19.0+ MB\n"
     ]
    }
   ],
   "source": [
    "data.info()"
   ]
  },
  {
   "cell_type": "code",
   "execution_count": 69,
   "id": "72f25609-add1-478a-834b-5e9ab260a989",
   "metadata": {
    "canvas": {
     "comments": [],
     "componentType": "CodeCell",
     "copiedOriginId": null,
     "diskcache": false,
     "headerColor": "transparent",
     "id": "9b070418-a64a-4636-a7f3-2c6ea2430c94",
     "isComponent": false,
     "name": "",
     "parents": []
    },
    "tags": []
   },
   "outputs": [
    {
     "data": {
      "text/plain": [
       "array(['ZARAGOZA', 'MUEL', 'PUEBLA DE ALFINDEN', 'VERA DE MONCAYO',\n",
       "       'VILLANUEVA DE GALLEGO', 'CALATORAO', 'RICLA', 'ALAGON', 'CADRETE',\n",
       "       'FABARA', 'FRAGA', 'BRONCHALES', 'CALATAYUD', 'LA MUELA',\n",
       "       'BIESCAS', 'TERUEL', 'VILLANUEVA DE HUERVA', 'TRASMOZ', 'HUESCA',\n",
       "       'MONZON', 'ZUERA', 'EJEA DE LOS CABALLEROS', 'CUARTE DE HUERVA',\n",
       "       'ALCAMPELL', 'UTEBO', 'CASTEJON DE SOS', 'TIERZ', 'CEDRILLAS',\n",
       "       'VILLAFRANCA DE EBRO', 'TORRIJO DEL CAMPO', 'CALAMOCHA',\n",
       "       'BENASQUE', 'BARBASTRO', 'MAZALEON', 'FUENTES DE EBRO',\n",
       "       'LA PUEBLA DE HIJAR', 'AISA', 'JACA', 'MONREAL DEL CAMPO',\n",
       "       'MARIA DE HUERVA', 'SALLENT DE GALLEGO', 'JARQUE', 'GALLUR',\n",
       "       'NUEZ DE EBRO', 'PINSEQUE', 'RUBIELOS DE MORA', 'FUENTES CLARAS',\n",
       "       'CASPE', 'VILLANUA', 'EL BURGO DE EBRO', 'ALCAÑIZ',\n",
       "       'MORA DE RUBIELOS', 'TARDIENTA', 'ALBALATE DE CINCA',\n",
       "       'LA ALMUNIA DE DOÑA GODINA', 'CANFRANC', 'PEDROLA', 'QUINTO',\n",
       "       'ANDORRA', 'PANTICOSA', 'PASTRIZ', 'BINEFAR', 'LUESIA', 'SARIÑENA',\n",
       "       'SAN MATEO DE GALLEGO', 'CELLA', 'LECIÑENA', 'AINSA-SOBRARBE',\n",
       "       'LUCENI', 'ANGUES', 'ESCUCHA', 'MALLEN', 'TARAZONA', 'SABIÑANIGO',\n",
       "       'MAELLA', 'GRAUS', 'TORRECILLA DE ALCAÑIZ', 'ALFAJARIN',\n",
       "       'ALBERO BAJO', 'AZAILA', 'CARIÑENA', 'VALDERROBRES', 'ATECA',\n",
       "       'MORATA DE JALON', 'SALILLAS DE JALON', 'GURREA DE GALLEGO',\n",
       "       'AZANUY-ALINS', 'TERRER', 'BARBOLES', 'VILLARROYA DEL CAMPO',\n",
       "       'ALQUEZAR', 'BINACED', 'PINA DE EBRO', 'AZUARA', 'EPILA',\n",
       "       'PLASENCIA DE JALON', 'ARIZA', 'ALCALA DE LA SELVA', 'ESTADILLA',\n",
       "       'SOBRADIEL', 'TAUSTE', 'ALTORRICON', 'TORRELLAS', 'BORJA',\n",
       "       'BISIMBRE', 'TORRES DE BERRELLEN', 'LA CODOÑERA', 'SEIRA',\n",
       "       'PANIZA', 'ALIAGA', 'VILLARQUEMADO', 'PERALTA DE CALASANZ',\n",
       "       'MEDIANA DE ARAGON', 'CALCENA', 'BOLTAÑA', 'GRISEN', 'CODO',\n",
       "       'NOGUERAS', 'QUICENA', 'AGON', 'LA PUEBLA DE CASTRO', 'BREA',\n",
       "       'SAHUN', 'ADAHUESCA', 'ALMUDEVAR', 'BARDALLUR', 'ESCATRON',\n",
       "       'MOYUELA', 'ALMUNIA DE SAN JUAN', 'ALCOLEA DE CINCA', 'BORAU',\n",
       "       'AYERBE', 'PERALTILLA', 'LASPAULES', 'PUENTE LA REINA', 'BURETA',\n",
       "       'CALANDA', 'TORRE DEL COMPTE', 'FIGUERUELAS', 'DAROCA',\n",
       "       'SALAS ALTAS', 'LANAJA', 'TAMARITE DE LITERA',\n",
       "       'ALMONACID DE LA SIERRA', 'BECEITE', 'MANZANERA', 'TRASOBARES',\n",
       "       'MALUENDA', 'PIEDRATAJADA', 'ARANDA DE MONCAYO', 'AGUAVIVA',\n",
       "       'MURILLO DE GALLEGO', 'VILLEL', 'FUENDEJALON', 'OSERA DE EBRO',\n",
       "       'SESTRICA', 'VALTORRES', 'CASTIELLO DE JACA', 'EL GRADO',\n",
       "       'PARACUELLOS DE JILOCA', 'MEZALOCHA', 'VALLE DE HECHO', 'ARIÑO',\n",
       "       'VILLAMAYOR DE GALLEGO', 'HIJAR', 'PUERTOMINGALVO', 'SESUE',\n",
       "       'PERDIGUERA', 'ALACON', 'SADABA', 'EL FRASNO', 'BOTORRITA',\n",
       "       'LA JOYOSA', 'ALCORISA', 'BALLOBAR', 'FUENTES DE JILOCA',\n",
       "       'VELILLA DE JILOCA', 'ALBERITE DE SAN JUAN', 'SOPEIRA', 'COSUENDA',\n",
       "       'SANTA EULALIA DE GALLEGO', 'LOS OLMOS', 'UTRILLAS',\n",
       "       'MAS DE LAS MATAS', 'MONFLORITE-LASCASAS', 'SANTA CRUZ DE MONCAYO',\n",
       "       'AÑON', 'TORRIJAS', 'IGRIES', 'SAN AGUSTIN', 'LUMPIAQUE',\n",
       "       'MEQUINENZA', 'ALLOZA', 'BROTO', 'ILLUECA', 'TORLA', 'BENABARRE',\n",
       "       'LASCUARRE', 'FORMICHE ALTO', 'GELSA', 'GOTOR', 'MONTALBAN',\n",
       "       'PUERTOLAS', 'HERRERA DE LOS NAVARROS', 'ALERRE', 'ALCUBIERRE',\n",
       "       'NUENO', 'OLIETE', 'CAPDESASO', 'SAN MIGUEL DEL CINCA',\n",
       "       'VALDELTORMO', 'LECERA', 'CHIPRANA', 'BIELSA', 'LALUEZA',\n",
       "       'NOVALLAS', 'LA FRESNEDA', 'LASPUÑA', 'ISABENA', 'MAINAR',\n",
       "       'VENCILLON', 'MUNEBREGA', 'SANTA EULALIA DEL CAMPO',\n",
       "       'CANAL DE BERDUN', 'ALHAMA DE ARAGON', 'PRADILLA DE EBRO', 'TOBED',\n",
       "       'LUNA', 'CAÑIZAR DEL OLIVAR', 'MORES', 'ALBARRACIN', 'SANTA CILIA',\n",
       "       'LAGATA', 'ENCINACORBA', 'FORADADA DE TOSCAR', 'CAMPO',\n",
       "       'PUEYO DE ARAGUAS', 'MONROYO', 'CAMINREAL', 'LOARRE', 'JAULIN',\n",
       "       'FONZ', 'URREA DE GAEN', 'BERBEGAL', 'MANCHONES', 'VILLASTAR',\n",
       "       'ARCOS DE LAS SALINAS', 'RUEDA DE JALON', 'VINACEITE',\n",
       "       'MORATA DE JILOCA', 'NUEVALOS', 'PERALEJOS', 'BOQUIÑENI',\n",
       "       'RODENAS', 'MALEJAN', 'CALACEITE', 'HOZ DE JACA', 'LITAGO',\n",
       "       'VILLANOVA', 'MAGALLON', 'ALBALATILLO', 'MONTANUY',\n",
       "       'SIERRA DE LUNA', 'ALFAMEN', 'ALBENTOSA', 'ABIEGO',\n",
       "       'SANTA CRUZ DE LA SEROS', 'ALCALA DE EBRO', 'TORNOS', 'LLEDO',\n",
       "       'SASTAGO', 'MONEGRILLO', 'ROBRES', 'GRAÑEN', 'ALMUNIENTE',\n",
       "       'AINZON', 'VILLANUEVA DE SIGENA', 'AZLOR', 'BELLO', 'MOZOTA',\n",
       "       'URREA DE JALON', 'CHIMILLAS', 'ESPLUS', 'PALOMAR DE ARROYOS',\n",
       "       'ARAGUES DEL PUERTO', 'SARRION', 'TORRIJO DE LA CAÑADA',\n",
       "       'TORRENTE DE CINCA', 'SAMPER DE CALANDA', 'FISCAL', 'NOVILLAS',\n",
       "       'PUEBLA DE ALBORTON', 'TORRALBILLA', 'SESA', 'FARLETE', 'CAMAÑAS',\n",
       "       'LA SOTONERA', 'PARACUELLOS DE LA RIBERA',\n",
       "       'TORRALBA DE LOS SISONES', 'TABUENCA', 'BELCHITE', 'BAILO',\n",
       "       'MOSQUERUELA', 'ORIHUELA DEL TREMEDAL', 'SOS DEL REY CATOLICO',\n",
       "       'CASTEL DE CABRA', 'BADULES', 'LA PORTELLADA', 'URRIES',\n",
       "       'PEÑARROYA DE TASTAVINS', 'BERDEJO', 'BISAURRI',\n",
       "       'ALBALATE DEL ARZOBISPO', 'RAFALES', 'LUCENA DE JALON', 'HUERTO',\n",
       "       'PLENAS', 'ALBELDA', 'BUJARALOZ', 'JASA', 'FRESCANO', 'AGUILON',\n",
       "       'TOSOS', 'BANASTAS', 'SALVATIERRA DE ESCA', 'ZAIDIN',\n",
       "       'VALJUNQUERA', 'REMOLINOS', 'PEÑAS DE RIGLOS', 'AGUARON', 'FAYON',\n",
       "       'MIEDES', 'VILLARROYA DE LA SIERRA', 'NOGUERUELAS',\n",
       "       'ALCALA DE GURREA', 'MONEVA', 'ALBETA', 'ALCAINE', 'LA ALMOLDA',\n",
       "       'PEÑALBA', 'ALPARTIR', 'BAGUES', 'CINCO OLIVAS', 'PUENDELUNA',\n",
       "       'SANTA CRUZ DE GRIO', 'CODOS', 'IBDES', 'ATEA', 'LA ZAIDA',\n",
       "       'ARGUIS', 'ANIÑON', 'FUENTESPALDA', 'VILLADOZ', 'VILLAFELICHE',\n",
       "       'LOS FAYOS', 'CLARES DE RIBOTA', 'CAMPILLO DE ARAGON',\n",
       "       'POZUELO DE ARAGON', 'CAMARENA DE LA SIERRA', 'MARTIN DEL RIO',\n",
       "       'CARENAS', 'CONTAMINA', 'NONASPE', 'JARABA', 'BIEL-FUENCALDERAS',\n",
       "       'BIOTA', 'ALCALA DE MONCAYO', 'VALLE DE LIERP', 'MALON', 'ESTADA',\n",
       "       'TORREVELILLA', 'UNCASTILLO', 'LUPIÑEN-ORTILLA', 'BELVER',\n",
       "       'LITUENIGO', 'VILLANUEVA DE JILOCA', 'FOZ CALANDA',\n",
       "       'CABAÑAS DE EBRO', 'CASTEJON DE VALDEJASA', 'ARANDIGA', 'COSA',\n",
       "       'CAMARILLAS', 'BAGUENA', 'LA PUEBLA DE VALVERDE', 'VALBONA',\n",
       "       'CALDEARENAS', 'VILLALENGUA', 'SABIÑAN', 'SALAS BAJAS', 'CETINA',\n",
       "       'MOROS', 'SIETAMO', 'SAN ESTEBAN DE LITERA', 'TORRES DE BARBUES',\n",
       "       'PERALTA DE ALCOFEA', 'SECASTILLA', 'MONFORTE DE MOYUELA',\n",
       "       'CASTELLOTE', 'GEA DE ALBARRACIN', 'OLBA', 'HINOJOSA DE JARQUE',\n",
       "       'CASTELSERAS', 'MOLINOS', 'MUNIESA', 'MIRAVETE DE LA SIERRA',\n",
       "       'TALAMANTES', 'LONGARES', 'ALMONACID DE LA CUBA', 'ERLA',\n",
       "       'VELILLA DE CINCA', 'LA FUEVA', 'LOSCORRALES', 'HOZ Y COSTEAN',\n",
       "       'LAGUERUELA', 'FUENTES DE RUBIELOS', 'CANTAVIEJA',\n",
       "       'TORRES DE ALCANADRE', 'VILLARLUENGO', 'BLECUA Y TORRES',\n",
       "       'CASTILLAZUELO', 'TORRE DE ARCAS', 'FANLO', 'BARRACHINA', 'AGUERO',\n",
       "       'SAN MARTIN DE LA VIRGEN DEL MO', 'JORCAS', 'JATIEL', 'ROYUELA',\n",
       "       'TRAMACASTILLA', 'LA CAÑADA DE VERICH', 'NOGUERA', 'CHIA',\n",
       "       'ALFAMBRA', 'PERALES DEL ALFAMBRA', 'CASTEJON DE MONEGROS',\n",
       "       'VILLARREAL DE HUERVA', 'LABUERDA', 'SANTA LIESTRA Y SAN QUILEZ',\n",
       "       'ONTIÑENA', 'PERARRUA', 'TELLA-SIN', 'ANSO', 'FAGO',\n",
       "       'BELMONTE SAN JOSE', 'PUEYO DE SANTA CRUZ', 'VILLAR DEL COBO',\n",
       "       'AREN', 'LA HOZ DE LA VIEJA', 'LA MATA DE LOS OLMOS', 'TRONCHON',\n",
       "       'VALACLOCHE', 'JOSA', 'ALBA DEL CAMPO', 'BUBIERCA', 'ALFANTEGA',\n",
       "       'SANGARREN', 'YESERO', 'ALCALA DEL OBISPO', 'ODON',\n",
       "       'TORRES DE ALBARRACIN', 'OLVENA', 'PLAN', 'CABRA DE MORA',\n",
       "       'LA IGLESUELA DEL CID', 'BLANCAS', 'LINARES DE MORA', 'ESTERCUEL',\n",
       "       'SAMPER DEL SALZ', 'SENA', 'EL CUERVO', 'BIERGE', 'CASTILLONROY',\n",
       "       'FUENTES CALIENTES', 'BEZAS', 'OSSO', 'LAS PARRAS DE CASTELLOTE',\n",
       "       'MONREAL DE ARIZA', 'MARA', 'RUBIALES', 'SAN JUAN DE PLAN',\n",
       "       'ARENS DE LLEDO', 'SANTED', 'LAS PEDROSAS', 'ISUERRE', 'FORNOLES',\n",
       "       'OJOS NEGROS', 'VILLAFRANCA DEL CAMPO', 'FORTANETE', 'LOPORZANO',\n",
       "       'CASBAS DE HUESCA', 'ARGENTE', 'CELADAS', 'COLUNGO', 'CASTIGALEU',\n",
       "       'CAMPORRELLS', 'AMBEL', 'CASTILISCAR', 'VELILLA DE EBRO',\n",
       "       'VALDEALGORFA', 'LA CEROLLERA', 'TORRE DE LAS ARCAS', 'TRAMACED',\n",
       "       'NAVAL', 'LETUX', 'TORRALBA DE RIBOTA', 'TIERGA',\n",
       "       'CASTEJON DEL PUENTE', 'CALMARZA', 'LANGA DEL CASTILLO',\n",
       "       'NOMBREVILLA', 'VILLAR DE LOS NAVARROS', 'JABALOYAS', 'EL BUSTE',\n",
       "       'VALDELINARES', 'GUADALAVIAR', 'VISTABELLA', 'CHALAMERA',\n",
       "       'LA GINEBROSA', 'EL FRAGO', 'LOS PINTANOS', 'LA CUBA', 'NIGUELLA',\n",
       "       'CRETAS', 'MONTERDE DE ALBARRACIN', 'FRIAS DE ALBARRACIN',\n",
       "       'BARBUES', 'ALFORQUE', 'PITARQUE', 'BISCARRUES', 'BARCABO',\n",
       "       'JARQUE DE LA VAL', 'EL VALLECILLO', 'VIERLAS', 'VALMADRID',\n",
       "       'RETASCON', 'TOLVA', 'UNDUES DE LERDA', 'CHODES', 'ANENTO',\n",
       "       'CERVERA DE LA CAÑADA', 'ALBORGE', 'PUENTE DE MONTAÑANA',\n",
       "       'ALBERO ALTO', 'GUDAR', 'POLEÑINO', 'MONTON', 'ARDISA', 'GARGALLO',\n",
       "       'VALFARTA', 'BALDELLOU', 'GRIEGOS', 'TERRIENTE', 'SALDON', 'SENO',\n",
       "       'LOSCOS', 'CANDASNOS', 'SINGRA', 'OBON', 'NAVARDUN',\n",
       "       'SANTA MARIA DE DULCIS', 'GODOJOS', 'SEDILES', 'ALMOCHUEL',\n",
       "       'BIJUESCA', 'ALLEPUZ', 'CAPELLA', 'ESTOPIÑAN DEL CASTILLO',\n",
       "       'BONANSA', 'ORCAJO', 'MEZQUITA DE JARQUE', 'SAN MARTIN DEL RIO',\n",
       "       'CASTELNOU', 'PLEITAS', 'POZAN DE VERO', 'BURBAGUENA', 'USED',\n",
       "       'CORTES DE ARAGON', 'POZONDON', 'LASCELLAS-PONZANO', 'BORDON',\n",
       "       'BAÑON', 'ORES', 'BELMONTE DE GRACIAN', 'ESCORIHUELA',\n",
       "       'VILLANUEVA DEL REBOLLAR', 'TORRECILLA DEL REBOLLAR',\n",
       "       'VILLARROYA DE LOS PINARES', 'ALBERUELA DE TUBO',\n",
       "       'CUEVAS DE ALMUDEN', 'RUBIELOS DE LA CERIDA', 'ORERA', 'VICIEN',\n",
       "       'VALDECUENCA', 'TORIL Y MASEGOSO', 'TORRALBA DE LOS FRAILES',\n",
       "       'ASIN', 'EMBID DE ARIZA', 'LIBROS', 'SEGURA DE LOS BAÑOS',\n",
       "       'BULBUENTE', 'AGUILAR DEL ALFAMBRA', 'LAS CUERLAS', 'GALVE',\n",
       "       'ORRIOS', 'GRISEL', 'FERRERUELA DE HUERVA', 'LIDON', 'RILLO',\n",
       "       'TORRALBA DE ARAGON', 'ARGAVIESO', 'SALILLAS', 'TRAMACASTIEL',\n",
       "       'NOVALES', 'CIMBALLA', 'CASCANTE DEL RIO', 'BERGE', 'PERTUSA',\n",
       "       'CRIVILLEN', 'ABIZANDA', 'LALUENGA', 'BLESA', 'BARBUÑALES',\n",
       "       'CUEVAS LABRADAS', 'ARTIEDA', 'LOBERA DE ONSELLA', 'TORRELAPAJA',\n",
       "       'GISTAIN', 'MALANQUILLA', 'FUENDETODOS', 'MIRAMBEL', 'ANADON',\n",
       "       'ILCHE', 'EJULVE', 'EL CASTELLAR', 'VALPALMAS', 'BERANUY', 'BEA',\n",
       "       'RUESCA', 'ROMANOS', 'CASTEJON DE LAS ARMAS', 'MESONES DE ISUELA',\n",
       "       'IBIECA', 'GALLOCANTA', 'ACERED', 'POZUEL DE ARIZA', 'BERRUECO',\n",
       "       'CUCALON', 'VILLAHERMOSA DEL CAMPO', 'SISAMON',\n",
       "       'ALCONCHEL DE ARIZA', 'VILLAR DEL SALZ', 'EL POBO', 'MURERO',\n",
       "       'MOSCARDON', 'BUEÑA', 'SENES DE ALCUBIERRE', 'BADENAS',\n",
       "       'LA VILUEÑA', 'LAYANA', 'LONGAS', 'CASTEJON DE TORNOS',\n",
       "       'PERACENSE', 'CALOMARDE', 'MARRACOS', 'AZARA', 'SIGUES', 'AGUATON',\n",
       "       'TORREHERMOSA', 'VISIEDO', 'PLOU', 'POZUEL DEL CAMPO', 'CUBLA',\n",
       "       'ANTILLON', 'VIVEL DEL RIO MARTIN', 'TORREMOCHA DE JILOCA',\n",
       "       'CABOLAFUENTE', 'CORBALAN', 'CERVERUELA', 'ALADREN', 'FONFRIA',\n",
       "       'BALCONCHAN', 'ALARBA', 'PALO', 'CASTELFLORITE', 'ABABUJ',\n",
       "       'ABANTO', 'ABEJUELA', 'CAÑADA DE BENATANDUZ', 'VALLE DE BARDAGI',\n",
       "       'MONTERDE', 'FOMBUENA', 'MIANOS', 'PURUJOSA', 'TORRELACARCEL',\n",
       "       'BORDALBA', 'ALDEHUELA DE LIESTOS', 'BAELLS', 'LAPERDIGUERA',\n",
       "       'HUESA DEL COMUN', 'TORRE LA RIBERA', 'ALPEÑES',\n",
       "       'VILLALBA DE PEREJIL', 'MONTEAGUDO DEL CASTILLO', 'PIRACES',\n",
       "       'YEBRA DE BASA', 'TORRE LOS NEGROS', 'POMER', 'PANCRUDO', 'OLVES',\n",
       "       'VALDEHORNA', 'OSEJA', 'VEGUILLAS DE LA SIERRA', 'TORMON'],\n",
       "      dtype=object)"
      ]
     },
     "execution_count": 69,
     "metadata": {},
     "output_type": "execute_result"
    }
   ],
   "source": [
    "data['Municipality'].unique()"
   ]
  },
  {
   "cell_type": "code",
   "execution_count": 70,
   "id": "9e4dabbf-c2ea-403c-9e57-ea5055b10507",
   "metadata": {
    "canvas": {
     "comments": [],
     "componentType": "CodeCell",
     "copiedOriginId": null,
     "diskcache": false,
     "headerColor": "transparent",
     "id": "08e0c028-e5d1-4f13-9f37-4b911ad50ceb",
     "isComponent": false,
     "name": "",
     "parents": []
    }
   },
   "outputs": [
    {
     "data": {
      "text/plain": [
       "array(['ZARAGOZA', 'HUESCA', 'TERUEL'], dtype=object)"
      ]
     },
     "execution_count": 70,
     "metadata": {},
     "output_type": "execute_result"
    }
   ],
   "source": [
    "data['Province'].unique()"
   ]
  },
  {
   "cell_type": "markdown",
   "id": "3a9e240b",
   "metadata": {},
   "source": [
    "Zaragoza, Huesca, and Teruel are provinces in the autonomous community of Aragon, located in the country of Spain."
   ]
  },
  {
   "cell_type": "markdown",
   "id": "4c5e18fd",
   "metadata": {},
   "source": [
    "Creating new columns (Day, Month, Year) based on Emission_date column\n"
   ]
  },
  {
   "cell_type": "code",
   "execution_count": 71,
   "id": "926571c8",
   "metadata": {},
   "outputs": [
    {
     "data": {
      "text/html": [
       "<div>\n",
       "<style scoped>\n",
       "    .dataframe tbody tr th:only-of-type {\n",
       "        vertical-align: middle;\n",
       "    }\n",
       "\n",
       "    .dataframe tbody tr th {\n",
       "        vertical-align: top;\n",
       "    }\n",
       "\n",
       "    .dataframe thead th {\n",
       "        text-align: right;\n",
       "    }\n",
       "</style>\n",
       "<table border=\"1\" class=\"dataframe\">\n",
       "  <thead>\n",
       "    <tr style=\"text-align: right;\">\n",
       "      <th></th>\n",
       "      <th>Emission_date</th>\n",
       "      <th>Expiration_date</th>\n",
       "      <th>CO2_emission</th>\n",
       "      <th>Emission_classification</th>\n",
       "      <th>Consumption_KWh_per_m2_per_year</th>\n",
       "      <th>Consumption_classification</th>\n",
       "      <th>Building_type</th>\n",
       "      <th>Building_condition</th>\n",
       "      <th>Year_of_construction</th>\n",
       "      <th>Surface_area_m2</th>\n",
       "      <th>Municipality</th>\n",
       "      <th>Province</th>\n",
       "      <th>GPS_coordinates</th>\n",
       "      <th>Emission_year</th>\n",
       "      <th>Days_until_expiration</th>\n",
       "      <th>year</th>\n",
       "      <th>month</th>\n",
       "      <th>day</th>\n",
       "    </tr>\n",
       "  </thead>\n",
       "  <tbody>\n",
       "    <tr>\n",
       "      <th>0</th>\n",
       "      <td>2013-06-29</td>\n",
       "      <td>2023-06-29</td>\n",
       "      <td>30.11</td>\n",
       "      <td>E</td>\n",
       "      <td>142.33</td>\n",
       "      <td>E</td>\n",
       "      <td>Vivienda individual</td>\n",
       "      <td>Existente</td>\n",
       "      <td>1962</td>\n",
       "      <td>49.00</td>\n",
       "      <td>ZARAGOZA</td>\n",
       "      <td>ZARAGOZA</td>\n",
       "      <td>674903,68 , 4612931,37</td>\n",
       "      <td>2013</td>\n",
       "      <td>3652</td>\n",
       "      <td>2013</td>\n",
       "      <td>6</td>\n",
       "      <td>29</td>\n",
       "    </tr>\n",
       "    <tr>\n",
       "      <th>1</th>\n",
       "      <td>2013-09-26</td>\n",
       "      <td>2023-09-26</td>\n",
       "      <td>46.06</td>\n",
       "      <td>E</td>\n",
       "      <td>174.42</td>\n",
       "      <td>E</td>\n",
       "      <td>Vivienda individual</td>\n",
       "      <td>Existente</td>\n",
       "      <td>1974</td>\n",
       "      <td>81.00</td>\n",
       "      <td>ZARAGOZA</td>\n",
       "      <td>ZARAGOZA</td>\n",
       "      <td>674062,96 , 4612970,24</td>\n",
       "      <td>2013</td>\n",
       "      <td>3652</td>\n",
       "      <td>2013</td>\n",
       "      <td>9</td>\n",
       "      <td>26</td>\n",
       "    </tr>\n",
       "    <tr>\n",
       "      <th>2</th>\n",
       "      <td>2014-02-26</td>\n",
       "      <td>2024-02-26</td>\n",
       "      <td>20.30</td>\n",
       "      <td>D</td>\n",
       "      <td>94.16</td>\n",
       "      <td>D</td>\n",
       "      <td>Vivienda individual</td>\n",
       "      <td>Existente</td>\n",
       "      <td>1999</td>\n",
       "      <td>72.00</td>\n",
       "      <td>ZARAGOZA</td>\n",
       "      <td>ZARAGOZA</td>\n",
       "      <td>671872,34 , 4612101,81</td>\n",
       "      <td>2014</td>\n",
       "      <td>3652</td>\n",
       "      <td>2014</td>\n",
       "      <td>2</td>\n",
       "      <td>26</td>\n",
       "    </tr>\n",
       "    <tr>\n",
       "      <th>3</th>\n",
       "      <td>2013-06-12</td>\n",
       "      <td>2023-06-12</td>\n",
       "      <td>39.21</td>\n",
       "      <td>E</td>\n",
       "      <td>187.66</td>\n",
       "      <td>E</td>\n",
       "      <td>Vivienda individual</td>\n",
       "      <td>Existente</td>\n",
       "      <td>1970</td>\n",
       "      <td>65.00</td>\n",
       "      <td>ZARAGOZA</td>\n",
       "      <td>ZARAGOZA</td>\n",
       "      <td>676128,95 , 4613401,52</td>\n",
       "      <td>2013</td>\n",
       "      <td>3652</td>\n",
       "      <td>2013</td>\n",
       "      <td>6</td>\n",
       "      <td>12</td>\n",
       "    </tr>\n",
       "    <tr>\n",
       "      <th>4</th>\n",
       "      <td>2013-06-27</td>\n",
       "      <td>2023-06-27</td>\n",
       "      <td>103.75</td>\n",
       "      <td>G</td>\n",
       "      <td>409.03</td>\n",
       "      <td>G</td>\n",
       "      <td>Vivienda individual</td>\n",
       "      <td>Existente</td>\n",
       "      <td>1965</td>\n",
       "      <td>46.00</td>\n",
       "      <td>ZARAGOZA</td>\n",
       "      <td>ZARAGOZA</td>\n",
       "      <td>674806,83 , 4613067,64</td>\n",
       "      <td>2013</td>\n",
       "      <td>3652</td>\n",
       "      <td>2013</td>\n",
       "      <td>6</td>\n",
       "      <td>27</td>\n",
       "    </tr>\n",
       "    <tr>\n",
       "      <th>...</th>\n",
       "      <td>...</td>\n",
       "      <td>...</td>\n",
       "      <td>...</td>\n",
       "      <td>...</td>\n",
       "      <td>...</td>\n",
       "      <td>...</td>\n",
       "      <td>...</td>\n",
       "      <td>...</td>\n",
       "      <td>...</td>\n",
       "      <td>...</td>\n",
       "      <td>...</td>\n",
       "      <td>...</td>\n",
       "      <td>...</td>\n",
       "      <td>...</td>\n",
       "      <td>...</td>\n",
       "      <td>...</td>\n",
       "      <td>...</td>\n",
       "      <td>...</td>\n",
       "    </tr>\n",
       "    <tr>\n",
       "      <th>179847</th>\n",
       "      <td>2023-12-26</td>\n",
       "      <td>2028-12-26</td>\n",
       "      <td>179.85</td>\n",
       "      <td>G</td>\n",
       "      <td>1015.16</td>\n",
       "      <td>G</td>\n",
       "      <td>Local</td>\n",
       "      <td>Existente</td>\n",
       "      <td>1965</td>\n",
       "      <td>25.42</td>\n",
       "      <td>ZARAGOZA</td>\n",
       "      <td>ZARAGOZA</td>\n",
       "      <td>677013,06 , 4611529,93</td>\n",
       "      <td>2023</td>\n",
       "      <td>1827</td>\n",
       "      <td>2023</td>\n",
       "      <td>12</td>\n",
       "      <td>26</td>\n",
       "    </tr>\n",
       "    <tr>\n",
       "      <th>179848</th>\n",
       "      <td>2023-11-24</td>\n",
       "      <td>2033-12-20</td>\n",
       "      <td>18.68</td>\n",
       "      <td>B</td>\n",
       "      <td>86.84</td>\n",
       "      <td>B</td>\n",
       "      <td>Unifamiliar</td>\n",
       "      <td>Proyecto Reforma</td>\n",
       "      <td>2013</td>\n",
       "      <td>329.99</td>\n",
       "      <td>ZARAGOZA</td>\n",
       "      <td>ZARAGOZA</td>\n",
       "      <td>673883,66 , 4610716,33</td>\n",
       "      <td>2023</td>\n",
       "      <td>3679</td>\n",
       "      <td>2023</td>\n",
       "      <td>11</td>\n",
       "      <td>24</td>\n",
       "    </tr>\n",
       "    <tr>\n",
       "      <th>179849</th>\n",
       "      <td>2023-12-22</td>\n",
       "      <td>2033-12-22</td>\n",
       "      <td>42.27</td>\n",
       "      <td>E</td>\n",
       "      <td>202.82</td>\n",
       "      <td>E</td>\n",
       "      <td>Vivienda individual</td>\n",
       "      <td>Existente</td>\n",
       "      <td>1977</td>\n",
       "      <td>100.86</td>\n",
       "      <td>ZARAGOZA</td>\n",
       "      <td>ZARAGOZA</td>\n",
       "      <td>674059,02 , 4613464,77</td>\n",
       "      <td>2023</td>\n",
       "      <td>3653</td>\n",
       "      <td>2023</td>\n",
       "      <td>12</td>\n",
       "      <td>22</td>\n",
       "    </tr>\n",
       "    <tr>\n",
       "      <th>179850</th>\n",
       "      <td>2023-12-23</td>\n",
       "      <td>2033-12-23</td>\n",
       "      <td>40.00</td>\n",
       "      <td>C</td>\n",
       "      <td>236.15</td>\n",
       "      <td>D</td>\n",
       "      <td>Local</td>\n",
       "      <td>Existente</td>\n",
       "      <td>2007</td>\n",
       "      <td>93.00</td>\n",
       "      <td>MORA DE RUBIELOS</td>\n",
       "      <td>TERUEL</td>\n",
       "      <td>690986,45 , 4457882,06</td>\n",
       "      <td>2023</td>\n",
       "      <td>3653</td>\n",
       "      <td>2023</td>\n",
       "      <td>12</td>\n",
       "      <td>23</td>\n",
       "    </tr>\n",
       "    <tr>\n",
       "      <th>179851</th>\n",
       "      <td>2023-12-27</td>\n",
       "      <td>2028-12-27</td>\n",
       "      <td>118.27</td>\n",
       "      <td>G</td>\n",
       "      <td>564.45</td>\n",
       "      <td>G</td>\n",
       "      <td>Unifamiliar</td>\n",
       "      <td>Existente</td>\n",
       "      <td>2000</td>\n",
       "      <td>91.00</td>\n",
       "      <td>LALUEZA</td>\n",
       "      <td>HUESCA</td>\n",
       "      <td>725478,51 , 4645895,96</td>\n",
       "      <td>2023</td>\n",
       "      <td>1827</td>\n",
       "      <td>2023</td>\n",
       "      <td>12</td>\n",
       "      <td>27</td>\n",
       "    </tr>\n",
       "  </tbody>\n",
       "</table>\n",
       "<p>155488 rows × 18 columns</p>\n",
       "</div>"
      ],
      "text/plain": [
       "       Emission_date Expiration_date  CO2_emission Emission_classification  \\\n",
       "0         2013-06-29      2023-06-29         30.11                       E   \n",
       "1         2013-09-26      2023-09-26         46.06                       E   \n",
       "2         2014-02-26      2024-02-26         20.30                       D   \n",
       "3         2013-06-12      2023-06-12         39.21                       E   \n",
       "4         2013-06-27      2023-06-27        103.75                       G   \n",
       "...              ...             ...           ...                     ...   \n",
       "179847    2023-12-26      2028-12-26        179.85                       G   \n",
       "179848    2023-11-24      2033-12-20         18.68                       B   \n",
       "179849    2023-12-22      2033-12-22         42.27                       E   \n",
       "179850    2023-12-23      2033-12-23         40.00                       C   \n",
       "179851    2023-12-27      2028-12-27        118.27                       G   \n",
       "\n",
       "        Consumption_KWh_per_m2_per_year Consumption_classification  \\\n",
       "0                                142.33                          E   \n",
       "1                                174.42                          E   \n",
       "2                                 94.16                          D   \n",
       "3                                187.66                          E   \n",
       "4                                409.03                          G   \n",
       "...                                 ...                        ...   \n",
       "179847                          1015.16                          G   \n",
       "179848                            86.84                          B   \n",
       "179849                           202.82                          E   \n",
       "179850                           236.15                          D   \n",
       "179851                           564.45                          G   \n",
       "\n",
       "              Building_type Building_condition  Year_of_construction  \\\n",
       "0       Vivienda individual          Existente                  1962   \n",
       "1       Vivienda individual          Existente                  1974   \n",
       "2       Vivienda individual          Existente                  1999   \n",
       "3       Vivienda individual          Existente                  1970   \n",
       "4       Vivienda individual          Existente                  1965   \n",
       "...                     ...                ...                   ...   \n",
       "179847                Local          Existente                  1965   \n",
       "179848          Unifamiliar   Proyecto Reforma                  2013   \n",
       "179849  Vivienda individual          Existente                  1977   \n",
       "179850                Local          Existente                  2007   \n",
       "179851          Unifamiliar          Existente                  2000   \n",
       "\n",
       "        Surface_area_m2      Municipality  Province         GPS_coordinates  \\\n",
       "0                 49.00          ZARAGOZA  ZARAGOZA  674903,68 , 4612931,37   \n",
       "1                 81.00          ZARAGOZA  ZARAGOZA  674062,96 , 4612970,24   \n",
       "2                 72.00          ZARAGOZA  ZARAGOZA  671872,34 , 4612101,81   \n",
       "3                 65.00          ZARAGOZA  ZARAGOZA  676128,95 , 4613401,52   \n",
       "4                 46.00          ZARAGOZA  ZARAGOZA  674806,83 , 4613067,64   \n",
       "...                 ...               ...       ...                     ...   \n",
       "179847            25.42          ZARAGOZA  ZARAGOZA  677013,06 , 4611529,93   \n",
       "179848           329.99          ZARAGOZA  ZARAGOZA  673883,66 , 4610716,33   \n",
       "179849           100.86          ZARAGOZA  ZARAGOZA  674059,02 , 4613464,77   \n",
       "179850            93.00  MORA DE RUBIELOS    TERUEL  690986,45 , 4457882,06   \n",
       "179851            91.00           LALUEZA    HUESCA  725478,51 , 4645895,96   \n",
       "\n",
       "        Emission_year  Days_until_expiration  year  month  day  \n",
       "0                2013                   3652  2013      6   29  \n",
       "1                2013                   3652  2013      9   26  \n",
       "2                2014                   3652  2014      2   26  \n",
       "3                2013                   3652  2013      6   12  \n",
       "4                2013                   3652  2013      6   27  \n",
       "...               ...                    ...   ...    ...  ...  \n",
       "179847           2023                   1827  2023     12   26  \n",
       "179848           2023                   3679  2023     11   24  \n",
       "179849           2023                   3653  2023     12   22  \n",
       "179850           2023                   3653  2023     12   23  \n",
       "179851           2023                   1827  2023     12   27  \n",
       "\n",
       "[155488 rows x 18 columns]"
      ]
     },
     "execution_count": 71,
     "metadata": {},
     "output_type": "execute_result"
    }
   ],
   "source": [
    "# Convert 'Emission_date' to datetime format\n",
    "data['Emission_date'] = pd.to_datetime(data['Emission_date'], format='ISO8601')\n",
    "\n",
    "# Create separate columns for year, month, and day\n",
    "data['year'] = data['Emission_date'].dt.year\n",
    "data['month'] = data['Emission_date'].dt.month\n",
    "data['day'] = data['Emission_date'].dt.day\n",
    "\n",
    "# Display the updated DataFrame\n",
    "data"
   ]
  },
  {
   "cell_type": "code",
   "execution_count": 72,
   "id": "24de71c2-576b-481f-9650-69bd8a51ff6e",
   "metadata": {
    "canvas": {
     "comments": [],
     "componentType": "CodeCell",
     "copiedOriginId": null,
     "diskcache": false,
     "headerColor": "transparent",
     "id": "96a1c952-b8a9-47a7-b3be-57879e07cfa3",
     "isComponent": false,
     "name": "",
     "parents": []
    }
   },
   "outputs": [
    {
     "data": {
      "text/plain": [
       "array([2013, 2014, 2012, 2002, 2015, 2011, 2004, 2016, 2017, 2018, 2019,\n",
       "       2020, 2021, 2022, 2023, 1913, 2009, 2010, 2007])"
      ]
     },
     "execution_count": 72,
     "metadata": {},
     "output_type": "execute_result"
    }
   ],
   "source": [
    "data['Emission_year'].unique()"
   ]
  },
  {
   "cell_type": "code",
   "execution_count": 73,
   "id": "df0bcc0b",
   "metadata": {},
   "outputs": [
    {
     "data": {
      "text/plain": [
       "array([2013, 2014, 2012, 2002, 2015, 2011, 2004, 2016, 2017, 2018, 2019,\n",
       "       2020, 2021, 2022, 2023, 1913, 2009, 2010, 2007], dtype=int32)"
      ]
     },
     "execution_count": 73,
     "metadata": {},
     "output_type": "execute_result"
    }
   ],
   "source": [
    "data['year'].unique()"
   ]
  },
  {
   "cell_type": "markdown",
   "id": "fcb08300",
   "metadata": {},
   "source": [
    "### EDA"
   ]
  },
  {
   "cell_type": "code",
   "execution_count": 74,
   "id": "08df564d",
   "metadata": {},
   "outputs": [
    {
     "data": {
      "image/png": "[encoded data removed]",
      "text/plain": [
       "<Figure size 800x600 with 1 Axes>"
      ]
     },
     "metadata": {},
     "output_type": "display_data"
    }
   ],
   "source": [
    "province_counts = data['Province'].value_counts()\n",
    "\n",
    "# Plotting the pie chart\n",
    "plt.figure(figsize=(8, 6))\n",
    "plt.pie(province_counts, labels=province_counts.index, autopct='%1.1f%%', startangle=140)\n",
    "plt.title('Distribution of Provinces')\n",
    "plt.show()"
   ]
  },
  {
   "cell_type": "code",
   "execution_count": 75,
   "id": "a3b05185",
   "metadata": {},
   "outputs": [
    {
     "name": "stdout",
     "output_type": "stream",
     "text": [
      "year\n",
      "1913        1\n",
      "2002        1\n",
      "2004        2\n",
      "2007        1\n",
      "2009        2\n",
      "2010        1\n",
      "2011        4\n",
      "2012       25\n",
      "2013     8458\n",
      "2014    15036\n",
      "2015    17322\n",
      "2016    14927\n",
      "2017    14858\n",
      "2018    13739\n",
      "2019    13589\n",
      "2020    10688\n",
      "2021    13696\n",
      "2022    16378\n",
      "2023    16760\n",
      "Name: Province, dtype: int64\n"
     ]
    }
   ],
   "source": [
    "group_by=data.groupby('year')['Province'].count()\n",
    "print(group_by)"
   ]
  },
  {
   "cell_type": "code",
   "execution_count": 76,
   "id": "5f3b9a47",
   "metadata": {},
   "outputs": [
    {
     "data": {
      "image/png": "[encoded data removed]",
      "text/plain": [
       "<Figure size 800x600 with 1 Axes>"
      ]
     },
     "metadata": {},
     "output_type": "display_data"
    }
   ],
   "source": [
    "plt.figure(figsize=(8, 6))\n",
    "plt.pie(group_by, labels=group_by.index, autopct='%1.1f%%', startangle=140)\n",
    "plt.title('Count of Provinces by Emission Year')\n",
    "plt.show()"
   ]
  },
  {
   "cell_type": "markdown",
   "id": "89947d32",
   "metadata": {},
   "source": [
    "Filtering out data points from the 'year' column where data coverage is less than 10% (1913 - 2012)."
   ]
  },
  {
   "cell_type": "code",
   "execution_count": 77,
   "id": "158ac752",
   "metadata": {},
   "outputs": [],
   "source": [
    "#Drop rows where 'Emission_year' is between 1913 and 2012\n",
    "data = data[~data['Emission_year'].between(1913, 2012)]\n",
    "\n",
    "# After filtering, reset index if necessary\n",
    "data = data.reset_index(drop=True)"
   ]
  },
  {
   "cell_type": "code",
   "execution_count": 78,
   "id": "e3060de3",
   "metadata": {},
   "outputs": [
    {
     "name": "stdout",
     "output_type": "stream",
     "text": [
      "year\n",
      "2013     8458\n",
      "2014    15036\n",
      "2015    17322\n",
      "2016    14927\n",
      "2017    14858\n",
      "2018    13739\n",
      "2019    13589\n",
      "2020    10688\n",
      "2021    13696\n",
      "2022    16378\n",
      "2023    16760\n",
      "Name: Province, dtype: int64\n"
     ]
    }
   ],
   "source": [
    "group_by=data.groupby('year')['Province'].count()\n",
    "print(group_by)"
   ]
  },
  {
   "cell_type": "code",
   "execution_count": 79,
   "id": "e397dbfb",
   "metadata": {},
   "outputs": [
    {
     "name": "stdout",
     "output_type": "stream",
     "text": [
      "<DatetimeArray>\n",
      "['2013-06-29 00:00:00', '2013-09-26 00:00:00', '2014-02-26 00:00:00',\n",
      " '2013-06-12 00:00:00', '2013-06-27 00:00:00', '2013-06-17 00:00:00',\n",
      " '2014-02-13 00:00:00', '2014-04-08 00:00:00', '2014-04-07 00:00:00',\n",
      " '2013-12-16 00:00:00',\n",
      " ...\n",
      " '2021-03-02 23:11:31', '2021-03-13 18:37:44', '2021-02-25 09:10:55',\n",
      " '2021-06-29 12:08:01', '2021-04-12 12:36:53', '2021-02-11 14:56:27',\n",
      " '2021-03-07 12:11:52', '2021-03-16 17:59:44', '2021-02-16 11:17:27',\n",
      " '2023-12-23 00:00:00']\n",
      "Length: 6771, dtype: datetime64[ns]\n"
     ]
    }
   ],
   "source": [
    "list1= data['Emission_date'].unique()\n",
    "print(list1)"
   ]
  },
  {
   "cell_type": "code",
   "execution_count": 80,
   "id": "38c2e08a",
   "metadata": {},
   "outputs": [
    {
     "name": "stdout",
     "output_type": "stream",
     "text": [
      "6771\n"
     ]
    }
   ],
   "source": [
    "print(len(list1))"
   ]
  },
  {
   "cell_type": "markdown",
   "id": "85952326",
   "metadata": {},
   "source": [
    "changing data type of Date"
   ]
  },
  {
   "cell_type": "code",
   "execution_count": 81,
   "id": "1ea6d125",
   "metadata": {},
   "outputs": [
    {
     "data": {
      "text/plain": [
       "dtype('<M8[ns]')"
      ]
     },
     "execution_count": 81,
     "metadata": {},
     "output_type": "execute_result"
    }
   ],
   "source": [
    "data['Emission_date'].dtype"
   ]
  },
  {
   "cell_type": "code",
   "execution_count": 82,
   "id": "06fb1153",
   "metadata": {},
   "outputs": [
    {
     "data": {
      "text/plain": [
       "0        2013-06-29\n",
       "1        2013-09-26\n",
       "2        2014-02-26\n",
       "3        2013-06-12\n",
       "4        2013-06-27\n",
       "            ...    \n",
       "155446   2023-12-26\n",
       "155447   2023-11-24\n",
       "155448   2023-12-22\n",
       "155449   2023-12-23\n",
       "155450   2023-12-27\n",
       "Name: Emission_date, Length: 155451, dtype: datetime64[ns]"
      ]
     },
     "execution_count": 82,
     "metadata": {},
     "output_type": "execute_result"
    }
   ],
   "source": [
    "data['Emission_date']= pd.to_datetime(data['Emission_date'], format='%Y-%m-%d')\n",
    "data['Emission_date']"
   ]
  },
  {
   "cell_type": "code",
   "execution_count": 86,
   "id": "24f2ade4",
   "metadata": {},
   "outputs": [
    {
     "data": {
      "text/plain": [
       "(155451, 18)"
      ]
     },
     "execution_count": 86,
     "metadata": {},
     "output_type": "execute_result"
    }
   ],
   "source": [
    "data.shape"
   ]
  },
  {
   "cell_type": "code",
   "execution_count": 91,
   "id": "67146e91",
   "metadata": {},
   "outputs": [
    {
     "data": {
      "text/plain": [
       "6771"
      ]
     },
     "execution_count": 91,
     "metadata": {},
     "output_type": "execute_result"
    }
   ],
   "source": [
    "date_count=len(list(data['Emission_date'].unique()))\n",
    "date_count"
   ]
  },
  {
   "cell_type": "code",
   "execution_count": null,
   "id": "164f1487",
   "metadata": {},
   "outputs": [],
   "source": []
  }
 ],
 "metadata": {
  "canvas": {
   "colorPalette": [
    "inherit",
    "inherit",
    "inherit",
    "inherit",
    "inherit",
    "inherit",
    "inherit",
    "inherit",
    "inherit",
    "inherit"
   ],
   "parameters": [],
   "version": "1.0"
  },
  "kernelspec": {
   "display_name": "Python 3 (ipykernel)",
   "language": "python",
   "name": "python3"
  },
  "language_info": {
   "codemirror_mode": {
    "name": "ipython",
    "version": 3
   },
   "file_extension": ".py",
   "mimetype": "text/x-python",
   "name": "python",
   "nbconvert_exporter": "python",
   "pygments_lexer": "ipython3",
   "version": "3.10.8"
  }
 },
 "nbformat": 4,
 "nbformat_minor": 5
}
