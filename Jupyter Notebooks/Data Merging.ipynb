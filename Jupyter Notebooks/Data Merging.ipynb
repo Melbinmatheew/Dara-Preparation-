{
 "cells": [
  {
   "cell_type": "markdown",
   "metadata": {},
   "source": [
    "Merging datas and Cleaning\n"
   ]
  },
  {
   "cell_type": "code",
   "execution_count": 32,
   "metadata": {},
   "outputs": [],
   "source": [
    "import numpy as np\n",
    "import pandas as pd\n"
   ]
  },
  {
   "cell_type": "code",
   "execution_count": 33,
   "metadata": {},
   "outputs": [
    {
     "data": {
      "text/html": [
       "<div>\n",
       "<style scoped>\n",
       "    .dataframe tbody tr th:only-of-type {\n",
       "        vertical-align: middle;\n",
       "    }\n",
       "\n",
       "    .dataframe tbody tr th {\n",
       "        vertical-align: top;\n",
       "    }\n",
       "\n",
       "    .dataframe thead th {\n",
       "        text-align: right;\n",
       "    }\n",
       "</style>\n",
       "<table border=\"1\" class=\"dataframe\">\n",
       "  <thead>\n",
       "    <tr style=\"text-align: right;\">\n",
       "      <th></th>\n",
       "      <th>Emission_date</th>\n",
       "      <th>Expiration_date</th>\n",
       "      <th>CO2_emission</th>\n",
       "      <th>Emission_classification</th>\n",
       "      <th>Consumption_KWh_per_m2_per_year</th>\n",
       "      <th>Consumption_classification</th>\n",
       "      <th>Building_type</th>\n",
       "      <th>Building_condition</th>\n",
       "      <th>Year_of_construction</th>\n",
       "      <th>Surface_area_m2</th>\n",
       "      <th>Municipality</th>\n",
       "      <th>Province</th>\n",
       "      <th>GPS_coordinates</th>\n",
       "      <th>Days_until_expiration</th>\n",
       "      <th>year</th>\n",
       "      <th>month</th>\n",
       "      <th>day</th>\n",
       "      <th>New_date</th>\n",
       "    </tr>\n",
       "  </thead>\n",
       "  <tbody>\n",
       "    <tr>\n",
       "      <th>0</th>\n",
       "      <td>2013-06-29</td>\n",
       "      <td>2023-06-29</td>\n",
       "      <td>30.11</td>\n",
       "      <td>E</td>\n",
       "      <td>142.33</td>\n",
       "      <td>E</td>\n",
       "      <td>Vivienda individual</td>\n",
       "      <td>Existente</td>\n",
       "      <td>1962</td>\n",
       "      <td>49.0</td>\n",
       "      <td>ZARAGOZA</td>\n",
       "      <td>ZARAGOZA</td>\n",
       "      <td>674903,68 , 4612931,37</td>\n",
       "      <td>3652</td>\n",
       "      <td>2013</td>\n",
       "      <td>6</td>\n",
       "      <td>29</td>\n",
       "      <td>2013-06-29</td>\n",
       "    </tr>\n",
       "    <tr>\n",
       "      <th>1</th>\n",
       "      <td>2013-09-26</td>\n",
       "      <td>2023-09-26</td>\n",
       "      <td>46.06</td>\n",
       "      <td>E</td>\n",
       "      <td>174.42</td>\n",
       "      <td>E</td>\n",
       "      <td>Vivienda individual</td>\n",
       "      <td>Existente</td>\n",
       "      <td>1974</td>\n",
       "      <td>81.0</td>\n",
       "      <td>ZARAGOZA</td>\n",
       "      <td>ZARAGOZA</td>\n",
       "      <td>674062,96 , 4612970,24</td>\n",
       "      <td>3652</td>\n",
       "      <td>2013</td>\n",
       "      <td>9</td>\n",
       "      <td>26</td>\n",
       "      <td>2013-09-26</td>\n",
       "    </tr>\n",
       "    <tr>\n",
       "      <th>2</th>\n",
       "      <td>2014-02-26</td>\n",
       "      <td>2024-02-26</td>\n",
       "      <td>20.30</td>\n",
       "      <td>D</td>\n",
       "      <td>94.16</td>\n",
       "      <td>D</td>\n",
       "      <td>Vivienda individual</td>\n",
       "      <td>Existente</td>\n",
       "      <td>1999</td>\n",
       "      <td>72.0</td>\n",
       "      <td>ZARAGOZA</td>\n",
       "      <td>ZARAGOZA</td>\n",
       "      <td>671872,34 , 4612101,81</td>\n",
       "      <td>3652</td>\n",
       "      <td>2014</td>\n",
       "      <td>2</td>\n",
       "      <td>26</td>\n",
       "      <td>2014-02-26</td>\n",
       "    </tr>\n",
       "    <tr>\n",
       "      <th>3</th>\n",
       "      <td>2013-06-12</td>\n",
       "      <td>2023-06-12</td>\n",
       "      <td>39.21</td>\n",
       "      <td>E</td>\n",
       "      <td>187.66</td>\n",
       "      <td>E</td>\n",
       "      <td>Vivienda individual</td>\n",
       "      <td>Existente</td>\n",
       "      <td>1970</td>\n",
       "      <td>65.0</td>\n",
       "      <td>ZARAGOZA</td>\n",
       "      <td>ZARAGOZA</td>\n",
       "      <td>676128,95 , 4613401,52</td>\n",
       "      <td>3652</td>\n",
       "      <td>2013</td>\n",
       "      <td>6</td>\n",
       "      <td>12</td>\n",
       "      <td>2013-06-12</td>\n",
       "    </tr>\n",
       "    <tr>\n",
       "      <th>4</th>\n",
       "      <td>2013-06-27</td>\n",
       "      <td>2023-06-27</td>\n",
       "      <td>103.75</td>\n",
       "      <td>G</td>\n",
       "      <td>409.03</td>\n",
       "      <td>G</td>\n",
       "      <td>Vivienda individual</td>\n",
       "      <td>Existente</td>\n",
       "      <td>1965</td>\n",
       "      <td>46.0</td>\n",
       "      <td>ZARAGOZA</td>\n",
       "      <td>ZARAGOZA</td>\n",
       "      <td>674806,83 , 4613067,64</td>\n",
       "      <td>3652</td>\n",
       "      <td>2013</td>\n",
       "      <td>6</td>\n",
       "      <td>27</td>\n",
       "      <td>2013-06-27</td>\n",
       "    </tr>\n",
       "  </tbody>\n",
       "</table>\n",
       "</div>"
      ],
      "text/plain": [
       "  Emission_date Expiration_date  CO2_emission Emission_classification  \\\n",
       "0    2013-06-29      2023-06-29         30.11                       E   \n",
       "1    2013-09-26      2023-09-26         46.06                       E   \n",
       "2    2014-02-26      2024-02-26         20.30                       D   \n",
       "3    2013-06-12      2023-06-12         39.21                       E   \n",
       "4    2013-06-27      2023-06-27        103.75                       G   \n",
       "\n",
       "   Consumption_KWh_per_m2_per_year Consumption_classification  \\\n",
       "0                           142.33                          E   \n",
       "1                           174.42                          E   \n",
       "2                            94.16                          D   \n",
       "3                           187.66                          E   \n",
       "4                           409.03                          G   \n",
       "\n",
       "         Building_type Building_condition  Year_of_construction  \\\n",
       "0  Vivienda individual          Existente                  1962   \n",
       "1  Vivienda individual          Existente                  1974   \n",
       "2  Vivienda individual          Existente                  1999   \n",
       "3  Vivienda individual          Existente                  1970   \n",
       "4  Vivienda individual          Existente                  1965   \n",
       "\n",
       "   Surface_area_m2 Municipality  Province         GPS_coordinates  \\\n",
       "0             49.0     ZARAGOZA  ZARAGOZA  674903,68 , 4612931,37   \n",
       "1             81.0     ZARAGOZA  ZARAGOZA  674062,96 , 4612970,24   \n",
       "2             72.0     ZARAGOZA  ZARAGOZA  671872,34 , 4612101,81   \n",
       "3             65.0     ZARAGOZA  ZARAGOZA  676128,95 , 4613401,52   \n",
       "4             46.0     ZARAGOZA  ZARAGOZA  674806,83 , 4613067,64   \n",
       "\n",
       "   Days_until_expiration  year  month  day    New_date  \n",
       "0                   3652  2013      6   29  2013-06-29  \n",
       "1                   3652  2013      9   26  2013-09-26  \n",
       "2                   3652  2014      2   26  2014-02-26  \n",
       "3                   3652  2013      6   12  2013-06-12  \n",
       "4                   3652  2013      6   27  2013-06-27  "
      ]
     },
     "execution_count": 33,
     "metadata": {},
     "output_type": "execute_result"
    }
   ],
   "source": [
    "df1=pd.read_csv(\"..\\Dataset\\Energy Consuption data.csv\")\n",
    "df1.head()"
   ]
  },
  {
   "cell_type": "code",
   "execution_count": 34,
   "metadata": {},
   "outputs": [
    {
     "data": {
      "text/html": [
       "<div>\n",
       "<style scoped>\n",
       "    .dataframe tbody tr th:only-of-type {\n",
       "        vertical-align: middle;\n",
       "    }\n",
       "\n",
       "    .dataframe tbody tr th {\n",
       "        vertical-align: top;\n",
       "    }\n",
       "\n",
       "    .dataframe thead th {\n",
       "        text-align: right;\n",
       "    }\n",
       "</style>\n",
       "<table border=\"1\" class=\"dataframe\">\n",
       "  <thead>\n",
       "    <tr style=\"text-align: right;\">\n",
       "      <th></th>\n",
       "      <th>Earth Skin Temperature</th>\n",
       "      <th>Humidity</th>\n",
       "      <th>Surface Pressure</th>\n",
       "      <th>Temperature at 2 Meters Range</th>\n",
       "      <th>Temperature at 2 Meters Minimum</th>\n",
       "      <th>Temperature at 2 Meters Maximum</th>\n",
       "      <th>Wind Speed</th>\n",
       "      <th>date</th>\n",
       "    </tr>\n",
       "  </thead>\n",
       "  <tbody>\n",
       "    <tr>\n",
       "      <th>0</th>\n",
       "      <td>6.26</td>\n",
       "      <td>5.00</td>\n",
       "      <td>97.43</td>\n",
       "      <td>7.57</td>\n",
       "      <td>3.69</td>\n",
       "      <td>11.26</td>\n",
       "      <td>7.42</td>\n",
       "      <td>2013-01-01</td>\n",
       "    </tr>\n",
       "    <tr>\n",
       "      <th>1</th>\n",
       "      <td>5.80</td>\n",
       "      <td>4.82</td>\n",
       "      <td>98.08</td>\n",
       "      <td>8.99</td>\n",
       "      <td>2.08</td>\n",
       "      <td>11.08</td>\n",
       "      <td>4.56</td>\n",
       "      <td>2013-01-02</td>\n",
       "    </tr>\n",
       "    <tr>\n",
       "      <th>2</th>\n",
       "      <td>3.56</td>\n",
       "      <td>3.60</td>\n",
       "      <td>99.10</td>\n",
       "      <td>10.90</td>\n",
       "      <td>0.87</td>\n",
       "      <td>11.76</td>\n",
       "      <td>5.65</td>\n",
       "      <td>2013-01-03</td>\n",
       "    </tr>\n",
       "    <tr>\n",
       "      <th>3</th>\n",
       "      <td>5.07</td>\n",
       "      <td>4.27</td>\n",
       "      <td>99.11</td>\n",
       "      <td>14.18</td>\n",
       "      <td>0.88</td>\n",
       "      <td>15.06</td>\n",
       "      <td>3.07</td>\n",
       "      <td>2013-01-04</td>\n",
       "    </tr>\n",
       "    <tr>\n",
       "      <th>4</th>\n",
       "      <td>7.21</td>\n",
       "      <td>5.19</td>\n",
       "      <td>98.64</td>\n",
       "      <td>11.91</td>\n",
       "      <td>4.19</td>\n",
       "      <td>16.11</td>\n",
       "      <td>2.79</td>\n",
       "      <td>2013-01-05</td>\n",
       "    </tr>\n",
       "  </tbody>\n",
       "</table>\n",
       "</div>"
      ],
      "text/plain": [
       "   Earth Skin Temperature   Humidity  Surface Pressure  \\\n",
       "0                    6.26       5.00             97.43   \n",
       "1                    5.80       4.82             98.08   \n",
       "2                    3.56       3.60             99.10   \n",
       "3                    5.07       4.27             99.11   \n",
       "4                    7.21       5.19             98.64   \n",
       "\n",
       "   Temperature at 2 Meters Range  Temperature at 2 Meters Minimum  \\\n",
       "0                           7.57                             3.69   \n",
       "1                           8.99                             2.08   \n",
       "2                          10.90                             0.87   \n",
       "3                          14.18                             0.88   \n",
       "4                          11.91                             4.19   \n",
       "\n",
       "   Temperature at 2 Meters Maximum  Wind Speed        date  \n",
       "0                            11.26        7.42  2013-01-01  \n",
       "1                            11.08        4.56  2013-01-02  \n",
       "2                            11.76        5.65  2013-01-03  \n",
       "3                            15.06        3.07  2013-01-04  \n",
       "4                            16.11        2.79  2013-01-05  "
      ]
     },
     "execution_count": 34,
     "metadata": {},
     "output_type": "execute_result"
    }
   ],
   "source": [
    "df2=pd.read_csv(\"..\\Dataset\\weather(2013-23).csv\")\n",
    "df2.head()"
   ]
  },
  {
   "cell_type": "code",
   "execution_count": 35,
   "metadata": {},
   "outputs": [
    {
     "data": {
      "text/html": [
       "<div>\n",
       "<style scoped>\n",
       "    .dataframe tbody tr th:only-of-type {\n",
       "        vertical-align: middle;\n",
       "    }\n",
       "\n",
       "    .dataframe tbody tr th {\n",
       "        vertical-align: top;\n",
       "    }\n",
       "\n",
       "    .dataframe thead th {\n",
       "        text-align: right;\n",
       "    }\n",
       "</style>\n",
       "<table border=\"1\" class=\"dataframe\">\n",
       "  <thead>\n",
       "    <tr style=\"text-align: right;\">\n",
       "      <th></th>\n",
       "      <th>Date</th>\n",
       "      <th>Name</th>\n",
       "      <th>holidays</th>\n",
       "    </tr>\n",
       "  </thead>\n",
       "  <tbody>\n",
       "    <tr>\n",
       "      <th>0</th>\n",
       "      <td>2013-01-01</td>\n",
       "      <td>New Year's Day</td>\n",
       "      <td>1</td>\n",
       "    </tr>\n",
       "    <tr>\n",
       "      <th>1</th>\n",
       "      <td>2013-01-02</td>\n",
       "      <td>Reconquest Day</td>\n",
       "      <td>1</td>\n",
       "    </tr>\n",
       "    <tr>\n",
       "      <th>2</th>\n",
       "      <td>2013-01-06</td>\n",
       "      <td>Epiphany</td>\n",
       "      <td>1</td>\n",
       "    </tr>\n",
       "    <tr>\n",
       "      <th>3</th>\n",
       "      <td>2013-01-07</td>\n",
       "      <td>Epiphany observed</td>\n",
       "      <td>1</td>\n",
       "    </tr>\n",
       "    <tr>\n",
       "      <th>4</th>\n",
       "      <td>2013-02-11</td>\n",
       "      <td>Carnival Monday</td>\n",
       "      <td>1</td>\n",
       "    </tr>\n",
       "  </tbody>\n",
       "</table>\n",
       "</div>"
      ],
      "text/plain": [
       "         Date               Name  holidays\n",
       "0  2013-01-01     New Year's Day         1\n",
       "1  2013-01-02     Reconquest Day         1\n",
       "2  2013-01-06           Epiphany         1\n",
       "3  2013-01-07  Epiphany observed         1\n",
       "4  2013-02-11    Carnival Monday         1"
      ]
     },
     "execution_count": 35,
     "metadata": {},
     "output_type": "execute_result"
    }
   ],
   "source": [
    "df3=pd.read_csv(\"..\\Dataset\\holidays.csv\")\n",
    "df3.head()"
   ]
  },
  {
   "cell_type": "markdown",
   "metadata": {},
   "source": [
    "#### Rename date columns to 'Date'"
   ]
  },
  {
   "cell_type": "code",
   "execution_count": 36,
   "metadata": {},
   "outputs": [],
   "source": [
    "df1=df1.rename(columns={'New_date':'Date'})\n",
    "\n",
    "df2=df2.rename(columns={'date':'Date'})"
   ]
  },
  {
   "cell_type": "code",
   "execution_count": null,
   "metadata": {},
   "outputs": [],
   "source": []
  },
  {
   "cell_type": "markdown",
   "metadata": {},
   "source": [
    "#### Convert 'date' columns to datetime format"
   ]
  },
  {
   "cell_type": "code",
   "execution_count": 37,
   "metadata": {},
   "outputs": [],
   "source": [
    "df1['Date']=pd.to_datetime(df1['Date'])\n",
    "df2['Date']=pd.to_datetime(df2['Date'])\n",
    "df3['Date']=pd.to_datetime(df3['Date'])"
   ]
  },
  {
   "cell_type": "code",
   "execution_count": 38,
   "metadata": {},
   "outputs": [
    {
     "data": {
      "text/plain": [
       "Index(['Emission_date', 'Expiration_date', 'CO2_emission',\n",
       "       'Emission_classification', 'Consumption_KWh_per_m2_per_year',\n",
       "       'Consumption_classification', 'Building_type', 'Building_condition',\n",
       "       'Year_of_construction', 'Surface_area_m2', 'Municipality', 'Province',\n",
       "       'GPS_coordinates', 'Days_until_expiration', 'year', 'month', 'day',\n",
       "       'Date'],\n",
       "      dtype='object')"
      ]
     },
     "execution_count": 38,
     "metadata": {},
     "output_type": "execute_result"
    }
   ],
   "source": [
    "df1.columns"
   ]
  },
  {
   "cell_type": "code",
   "execution_count": 39,
   "metadata": {},
   "outputs": [
    {
     "data": {
      "text/plain": [
       "Index(['Earth Skin Temperature', ' Humidity', 'Surface Pressure',\n",
       "       'Temperature at 2 Meters Range', 'Temperature at 2 Meters Minimum',\n",
       "       'Temperature at 2 Meters Maximum', 'Wind Speed', 'Date'],\n",
       "      dtype='object')"
      ]
     },
     "execution_count": 39,
     "metadata": {},
     "output_type": "execute_result"
    }
   ],
   "source": [
    "df2.columns"
   ]
  },
  {
   "cell_type": "code",
   "execution_count": 40,
   "metadata": {},
   "outputs": [
    {
     "data": {
      "text/plain": [
       "Index(['Date', 'Name', 'holidays'], dtype='object')"
      ]
     },
     "execution_count": 40,
     "metadata": {},
     "output_type": "execute_result"
    }
   ],
   "source": [
    "df3.columns"
   ]
  },
  {
   "cell_type": "markdown",
   "metadata": {},
   "source": [
    "#### Merging date columns"
   ]
  },
  {
   "cell_type": "code",
   "execution_count": null,
   "metadata": {},
   "outputs": [],
   "source": []
  }
 ],
 "metadata": {
  "kernelspec": {
   "display_name": "venv_name",
   "language": "python",
   "name": "python3"
  },
  "language_info": {
   "codemirror_mode": {
    "name": "ipython",
    "version": 3
   },
   "file_extension": ".py",
   "mimetype": "text/x-python",
   "name": "python",
   "nbconvert_exporter": "python",
   "pygments_lexer": "ipython3",
   "version": "3.10.8"
  }
 },
 "nbformat": 4,
 "nbformat_minor": 2
}
